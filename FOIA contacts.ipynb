{
 "metadata": {
  "name": "",
  "signature": "sha256:b89e98e9ec1d9b03eed546e88c87e852d8a960de7355343198cb1704ab4e0226"
 },
 "nbformat": 3,
 "nbformat_minor": 0,
 "worksheets": [
  {
   "cells": [
    {
     "cell_type": "code",
     "collapsed": false,
     "input": [
      "import pandas"
     ],
     "language": "python",
     "metadata": {},
     "outputs": [],
     "prompt_number": 4
    },
    {
     "cell_type": "code",
     "collapsed": false,
     "input": [
      "foia_contacts = pandas.read_excel(\"/Users/gabrielramirez/Documents/FOIA/foia/contacts/layering_data/full-foia-contacts.xls\", sheetname=0) \n",
      "foia_contacts = foia_contacts.append(pandas.read_excel(\"/Users/gabrielramirez/Documents/FOIA/foia/contacts/layering_data/full-foia-contacts.xls\", sheetname=1))\n",
      "#foia_contacts2 = pandas.read_excel(\"/Users/gabrielramirez/Documents/FOIA/foia/contacts/layering_data/full-foia-contacts.xls\", sheetname=1)"
     ],
     "language": "python",
     "metadata": {},
     "outputs": [],
     "prompt_number": 16
    },
    {
     "cell_type": "code",
     "collapsed": false,
     "input": [
      "foia_contacts[foia_contacts.Name.str.contains(\"Fishers Lan\")==True]"
     ],
     "language": "python",
     "metadata": {},
     "outputs": [
      {
       "html": [
        "<div style=\"max-height:1000px;max-width:1500px;overflow:auto;\">\n",
        "<table border=\"1\" class=\"dataframe\">\n",
        "  <thead>\n",
        "    <tr style=\"text-align: right;\">\n",
        "      <th></th>\n",
        "      <th>Agency</th>\n",
        "      <th>City</th>\n",
        "      <th>Department</th>\n",
        "      <th>Email Address</th>\n",
        "      <th>Fax</th>\n",
        "      <th>Name</th>\n",
        "      <th>Notes</th>\n",
        "      <th>Online Request Form</th>\n",
        "      <th>Room Number</th>\n",
        "      <th>State</th>\n",
        "      <th>Street Address</th>\n",
        "      <th>Telephone</th>\n",
        "      <th>Title</th>\n",
        "      <th>Unnamed: 15</th>\n",
        "      <th>Website</th>\n",
        "      <th>Zip Code</th>\n",
        "    </tr>\n",
        "  </thead>\n",
        "  <tbody>\n",
        "  </tbody>\n",
        "</table>\n",
        "</div>"
       ],
       "metadata": {},
       "output_type": "pyout",
       "prompt_number": 32,
       "text": [
        "Empty DataFrame\n",
        "Columns: [Agency, City, Department, Email Address, Fax, Name, Notes, Online Request Form, Room Number, State, Street Address, Telephone, Title, Unnamed: 15, Website, Zip Code]\n",
        "Index: []"
       ]
      }
     ],
     "prompt_number": 32
    },
    {
     "cell_type": "code",
     "collapsed": false,
     "input": [],
     "language": "python",
     "metadata": {},
     "outputs": []
    }
   ],
   "metadata": {}
  }
 ]
}