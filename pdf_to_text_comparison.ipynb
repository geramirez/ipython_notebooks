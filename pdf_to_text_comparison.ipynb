{
 "metadata": {
  "name": "",
  "signature": "sha256:2a659009c33c0b0ab44297956020c6ded3f26bbda3609ea62652722c083771cc"
 },
 "nbformat": 3,
 "nbformat_minor": 0,
 "worksheets": [
  {
   "cells": [
    {
     "cell_type": "heading",
     "level": 2,
     "metadata": {},
     "source": [
      "Comparing pdftotext and tika"
     ]
    },
    {
     "cell_type": "markdown",
     "metadata": {},
     "source": [
      "###  Methodology: \n",
      "1. Converted 200 pdf files with both tika and pdftotext.  \n",
      "2. Extracted the number of words over 3 chars in length from each document .  \n",
      "3. Created a vector containing the % difference between the number of extracted words for each document pair.  "
     ]
    },
    {
     "cell_type": "code",
     "collapsed": false,
     "input": [
      "%pylab inline"
     ],
     "language": "python",
     "metadata": {},
     "outputs": [
      {
       "output_type": "stream",
       "stream": "stdout",
       "text": [
        "Populating the interactive namespace from numpy and matplotlib\n"
       ]
      }
     ],
     "prompt_number": 1
    },
    {
     "cell_type": "code",
     "collapsed": false,
     "input": [
      "#imports\n",
      "from glob import glob\n",
      "import numpy\n",
      "import re\n",
      "import pandas\n",
      "\n",
      "WORDS = re.compile('[A-Za-z]{3,}')"
     ],
     "language": "python",
     "metadata": {},
     "outputs": [],
     "prompt_number": 2
    },
    {
     "cell_type": "code",
     "collapsed": false,
     "input": [
      "\n",
      "diff = []\n",
      "for d in glob(\"DOCUMENT*\"):\n",
      "\n",
      "    with open(d + \"/document.txt\", 'r') as f:\n",
      "        text = f.read()\n",
      "        pdftotext_len = len(tuple(WORDS.finditer(text)))\n",
      "\n",
      "    with open(d + \"/documents_tika.txt\", 'r') as f:\n",
      "        text = f.read()\n",
      "        tika_len = len(tuple(WORDS.finditer(text)))\n",
      "\n",
      "    difference = (tika_len - pdftotext_len) / (pdftotext_len * 1.0) * 100\n",
      "    diff.append(difference)"
     ],
     "language": "python",
     "metadata": {},
     "outputs": [],
     "prompt_number": 3
    },
    {
     "cell_type": "code",
     "collapsed": false,
     "input": [
      "tika_perc_diff = pandas.Series(diff)\n",
      "tika_perc_diff.describe()"
     ],
     "language": "python",
     "metadata": {},
     "outputs": [
      {
       "metadata": {},
       "output_type": "pyout",
       "prompt_number": 4,
       "text": [
        "count    200.000000\n",
        "mean       0.497971\n",
        "std        0.231230\n",
        "min        0.000000\n",
        "25%        0.313235\n",
        "50%        0.474721\n",
        "75%        0.599402\n",
        "max        1.538462\n",
        "dtype: float64"
       ]
      }
     ],
     "prompt_number": 4
    },
    {
     "cell_type": "markdown",
     "metadata": {},
     "source": [
      "#### Based on these statistics it's clear that Tika extracts on average more words. There is very little probability that pdf to text would extract more words. "
     ]
    },
    {
     "cell_type": "code",
     "collapsed": false,
     "input": [
      "tika_perc_diff.hist()"
     ],
     "language": "python",
     "metadata": {},
     "outputs": [
      {
       "metadata": {},
       "output_type": "pyout",
       "prompt_number": 5,
       "text": [
        "<matplotlib.axes._subplots.AxesSubplot at 0x7fc580fb9790>"
       ]
      },
      {
       "metadata": {},
       "output_type": "display_data",
       "png": "[encoded data removed]",
       "text": [
        "<matplotlib.figure.Figure at 0x7fc582f3c990>"
       ]
      }
     ],
     "prompt_number": 5
    }
   ],
   "metadata": {}
  }
 ]
}