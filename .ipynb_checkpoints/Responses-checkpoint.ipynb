{
 "metadata": {
  "name": "",
  "signature": "sha256:cbe82554310c1c02d65930b639124162f19afeb084340ae274fcde44633307dc"
 },
 "nbformat": 3,
 "nbformat_minor": 0,
 "worksheets": [
  {
   "cells": [
    {
     "cell_type": "heading",
     "level": 2,
     "metadata": {},
     "source": [
      "EDA for FOIA requests"
     ]
    },
    {
     "cell_type": "code",
     "collapsed": false,
     "input": [
      "%pylab inline"
     ],
     "language": "python",
     "metadata": {},
     "outputs": [
      {
       "output_type": "stream",
       "stream": "stdout",
       "text": [
        "Populating the interactive namespace from numpy and matplotlib\n"
       ]
      }
     ],
     "prompt_number": 1
    },
    {
     "cell_type": "code",
     "collapsed": false,
     "input": [
      "# Dependencies\n",
      "import pandas\n",
      "import re\n",
      "import random\n",
      "\n",
      "from gensim import corpora, models, similarities\n",
      "from itertools import chain\n",
      "from nltk import word_tokenize, clean_html\n",
      "from nltk.corpus import stopwords\n",
      "from operator import itemgetter"
     ],
     "language": "python",
     "metadata": {},
     "outputs": [],
     "prompt_number": 2
    },
    {
     "cell_type": "heading",
     "level": 3,
     "metadata": {},
     "source": [
      "Loading Data"
     ]
    },
    {
     "cell_type": "code",
     "collapsed": false,
     "input": [
      "data = pandas.read_csv('foia_online_requests.csv',  error_bad_lines=False, encoding=\"ISO-8859-1\")\n",
      "data = data.append(pandas.read_csv('foia_online_requests_2.csv',  error_bad_lines=False, encoding=\"ISO-8859-1\"))\n",
      "data = data.drop_duplicates('Tracking Number')\n",
      "data = data.dropna(subset = ['Description/Basis for Appeal'])"
     ],
     "language": "python",
     "metadata": {},
     "outputs": [],
     "prompt_number": 1
    },
    {
     "cell_type": "heading",
     "level": 3,
     "metadata": {},
     "source": [
      "Request Lengths"
     ]
    },
    {
     "cell_type": "code",
     "collapsed": false,
     "input": [
      "# getting lengths\n",
      "docs = [[re.sub(\"[^a-z]\",\"\",word) for word in document.lower().split()]\n",
      "        for document in data['Description/Basis for Appeal']]\n",
      "lengths = []\n",
      "for doc in docs:\n",
      "    lengths.append(len(doc))\n",
      "lengths = pandas.Series(lengths)\n",
      "\n",
      "# subsetting sample\n",
      "rows = random.sample(lengths.index, 1000)\n",
      "lengths_sample = lengths.ix[rows]"
     ],
     "language": "python",
     "metadata": {},
     "outputs": [],
     "prompt_number": 58
    },
    {
     "cell_type": "code",
     "collapsed": false,
     "input": [
      "# summary stats\n",
      "lengths_sample.describe()"
     ],
     "language": "python",
     "metadata": {},
     "outputs": [
      {
       "metadata": {},
       "output_type": "pyout",
       "prompt_number": 59,
       "text": [
        "count    1000.000000\n",
        "mean       86.359000\n",
        "std        73.981669\n",
        "min         2.000000\n",
        "25%        29.000000\n",
        "50%        65.000000\n",
        "75%       126.000000\n",
        "max       331.000000\n",
        "dtype: float64"
       ]
      }
     ],
     "prompt_number": 59
    },
    {
     "cell_type": "code",
     "collapsed": false,
     "input": [
      "lengths_sample.hist().set_title('Hist of Request Lengths')"
     ],
     "language": "python",
     "metadata": {},
     "outputs": [
      {
       "metadata": {},
       "output_type": "pyout",
       "prompt_number": 60,
       "text": [
        "<matplotlib.text.Text at 0x118208b90>"
       ]
      },
      {
       "metadata": {},
       "output_type": "display_data",
       "png": "[encoded data removed]",
       "text": [
        "<matplotlib.figure.Figure at 0x118c63b10>"
       ]
      }
     ],
     "prompt_number": 60
    },
    {
     "cell_type": "markdown",
     "metadata": {},
     "source": [
      "It appears that requests tend to be short. The plurality are below 50 words. Question - is there a relationship between length and response?"
     ]
    },
    {
     "cell_type": "heading",
     "level": 3,
     "metadata": {},
     "source": [
      "Repeat requesters"
     ]
    },
    {
     "cell_type": "code",
     "collapsed": false,
     "input": [
      "# Getting the values counts of requesters\n",
      "requesters = data['Requester'].value_counts()\n",
      "requesters.head()"
     ],
     "language": "python",
     "metadata": {},
     "outputs": [
      {
       "metadata": {},
       "output_type": "pyout",
       "prompt_number": 65,
       "text": [
        "Manuel E. Solis        139\n",
        "Kristine Savona         89\n",
        "Under Agency Review     77\n",
        "Connie Marini           53\n",
        "Greg Oberlohr           48\n",
        "dtype: int64"
       ]
      }
     ],
     "prompt_number": 65
    },
    {
     "cell_type": "code",
     "collapsed": false,
     "input": [
      "requesters.hist().set_title('Hist of Requester Counts')"
     ],
     "language": "python",
     "metadata": {},
     "outputs": [
      {
       "metadata": {},
       "output_type": "pyout",
       "prompt_number": 70,
       "text": [
        "'\\nprint(data[\\'Requester Organization\\'].describe())\\nprint(\"\\n\\n\\n\")\\nprint(data[\\'Requester Organization\\'].isnull().sum())\\n'"
       ]
      },
      {
       "metadata": {},
       "output_type": "display_data",
       "png": "[encoded data removed]",
       "text": [
        "<matplotlib.figure.Figure at 0x116c895d0>"
       ]
      }
     ],
     "prompt_number": 70
    },
    {
     "cell_type": "code",
     "collapsed": false,
     "input": [
      "# Requestor info\n",
      "print( \"% of single requesters \\t\" +  str(float(requesters[requesters == 1].shape[0]) / float(data.shape[0]) * 100))\n",
      "print(\"% of requesters without org: \" +  str(float(data['Requester Organization'].isnull().sum()) / float(data.shape[0]) * 100))"
     ],
     "language": "python",
     "metadata": {},
     "outputs": [
      {
       "output_type": "stream",
       "stream": "stdout",
       "text": [
        "% of single requesters \t42.8610957388\n",
        "% of requesters without org: 17.100166021\n"
       ]
      }
     ],
     "prompt_number": 89
    },
    {
     "cell_type": "heading",
     "level": 3,
     "metadata": {},
     "source": [
      "Top Words"
     ]
    },
    {
     "cell_type": "code",
     "collapsed": false,
     "input": [
      "words = ' '.join(data['Description/Basis for Appeal']).lower().split(' ')\n",
      "words = [re.sub(\"[^a-z]\",\"\",word) for word in words if word and len(word) > 3]\n",
      "words = pandas.Series(words)\n",
      "top_words = words.value_counts()\n",
      "top_words"
     ],
     "language": "python",
     "metadata": {},
     "outputs": [
      {
       "metadata": {},
       "output_type": "pyout",
       "prompt_number": 91,
       "text": [
        "                 7020\n",
        "information      3198\n",
        "request          2965\n",
        "this             2693\n",
        "that             1931\n",
        "please           1844\n",
        "environmental    1821\n",
        "site             1707\n",
        "records          1700\n",
        "would            1423\n",
        "with             1398\n",
        "your             1363\n",
        "documents        1315\n",
        "property         1142\n",
        "regarding        1141\n",
        "...\n",
        "chapeks                    1\n",
        "sitesepa                   1\n",
        "simeon                     1\n",
        "specialistenvironmental    1\n",
        "stands                     1\n",
        "pristine                   1\n",
        "vantage                    1\n",
        "experiment                 1\n",
        "prncwe                     1\n",
        "soughtthe                  1\n",
        "espresso                   1\n",
        "tomer                      1\n",
        "facilitiesfdocuments       1\n",
        "suitablefor                1\n",
        "swrpr                      1\n",
        "Length: 17592, dtype: int64"
       ]
      }
     ],
     "prompt_number": 91
    },
    {
     "cell_type": "heading",
     "level": 3,
     "metadata": {},
     "source": [
      "LDA Model"
     ]
    },
    {
     "cell_type": "code",
     "collapsed": false,
     "input": [
      "texts = [[re.sub(\"[^a-z]\",\"\",word) for word in document.lower().split() if len(re.sub(\"[^a-z]\",\"\",word)) > 3] for document in data['Description/Basis for Appeal']]\n",
      "dictionary = corpora.Dictionary(texts)\n",
      "corpus = [dictionary.doc2bow(text) for text in texts]"
     ],
     "language": "python",
     "metadata": {},
     "outputs": [],
     "prompt_number": 92
    },
    {
     "cell_type": "code",
     "collapsed": false,
     "input": [
      "tfidf = models.TfidfModel(corpus)\n",
      "corpus_tfidf = tfidf[corpus]"
     ],
     "language": "python",
     "metadata": {},
     "outputs": [],
     "prompt_number": 93
    },
    {
     "cell_type": "code",
     "collapsed": false,
     "input": [
      "n_topics = 10\n",
      "lda = models.LdaModel(corpus_tfidf, id2word=dictionary, num_topics=n_topics)\n",
      "\n",
      "for i in range(0, n_topics):\n",
      "    temp = lda.show_topic(i, 10)\n",
      "    terms = []\n",
      "    for term in temp:\n",
      "        terms.append(term[1])\n",
      "    print \"Top 10 terms for topic #\" + str(i) + \": \"+ \", \".join(terms)\n",
      " "
     ],
     "language": "python",
     "metadata": {},
     "outputs": [
      {
       "output_type": "stream",
       "stream": "stderr",
       "text": [
        "WARNING:gensim.models.ldamodel:too few updates, training might not converge; consider increasing the number of passes or iterations to improve accuracy\n"
       ]
      },
      {
       "output_type": "stream",
       "stream": "stdout",
       "text": [
        "Top 10 terms for topic #0: description, agency, review, under, this, request, site, street, property, environmental\n",
        "Top 10 terms for topic #1: site, storage, environmental, property, reports, related, information, would, records, following\n",
        "Top 10 terms for topic #2: environmental, kansas, information, hazardous, records, site, property, regarding, city, have\n",
        "Top 10 terms for topic #3: site, property, landfill, environmental, troy, decree, information, waste, cleanup, with\n",
        "Top 10 terms for topic #4: detained, near, around, records, like, would, have, grant, review, environmental\n",
        "Top 10 terms for topic #5: description, agency, review, under, this, request, documents, from, copy, requesting\n",
        "Top 10 terms for topic #6: records, request, this, foia, that, documents, please, information, with, site\n",
        "Top 10 terms for topic #7: photos, fingerprint, detained, taken, around, were, review, nemours, records, have\n",
        "Top 10 terms for topic #8: responses, documents, response, supplemental, information, environmental, asbestos, version, correspondence, records\n",
        "Top 10 terms for topic #9: your, records, environmental, emissions, information, project, please, properties, need, additional\n"
       ]
      }
     ],
     "prompt_number": 95
    },
    {
     "cell_type": "heading",
     "level": 3,
     "metadata": {},
     "source": [
      "Examples of topic 9"
     ]
    },
    {
     "cell_type": "code",
     "collapsed": false,
     "input": [
      "topic_dict = {}\n",
      "for doc in range(0,1000):\n",
      "    topic_number =  str(max(lda[corpus[doc]],key=itemgetter(1))[0])\n",
      "    if topic_dict.get(topic_number):\n",
      "        topic_dict[topic_number].append(\" \".join(texts[doc]))\n",
      "    else:\n",
      "        topic_dict[topic_number] = [\" \".join(texts[doc])]\n",
      "\n",
      "i = 0\n",
      "for doc in topic_dict[\"9\"]:\n",
      "    i += 1\n",
      "    print (doc + \"\\n\\n\")\n",
      "    if i > 6:\n",
      "        break\n"
     ],
     "language": "python",
     "metadata": {},
     "outputs": [
      {
       "output_type": "stream",
       "stream": "stdout",
       "text": [
        "information regarding corps engineers case corps engineers foia ronnie alleged mechanized land clearing wetlands tract vacant land located northwest intersection sleepy hollow post road montgomery county texas property\n",
        "\n",
        "\n",
        "would like copy customs border protection background investigations report investigation regarding myself\n",
        "\n",
        "\n",
        "whom concern through freedom information requesting following listing rcra corrective action sites corracts regions would like data cdrom email would like data access excel format cannot send access excel format like file comma delimited format information would like region facility name location street address location city location state location zipcode location county number area name corrective action event code original scheduled date scheduled date actual date ncaps ranking code naics code please include documentation needed read data guarantee payment cost cost will exceed please know thank your assistance sincerely connie marini wheelers farms road milford cmariniedrnetcom\n",
        "\n",
        "\n",
        "requesting little more information about national monitoring plan pesticides\n",
        "\n",
        "\n",
        "hello through foia request requesting following region excel format listing underground storage tank site locations indian land information would like site tankid tankstatusdesc dateoftankstatuschange substancedesc overfillinstalled spillinstalled tribe locname locstr city state locphone dateinstalled thank christian ampuero christianareccheckcom\n",
        "\n",
        "\n",
        "hello through foia request requesting following region excel format listing underground storage tank site locations indian land information would like altfacilityid tribe locname latitude longitude locstr tblfacilitycity tblfacilitycounty tblfacilitystate tblfacilityzip facilitydesc tankid substancedesc tankstatusdesc tankmatdesc pipematdesc spillinstalled overfillinstalled leakdetectedorcleanclosure dateinstalled dateclosed name address tblownercity tblownercounty tblownerstate tblownerzip\n",
        "\n",
        "\n",
        "researching mine sites that will require longterm water treatment particularly those that will require treatment years into perpetuity meet water quality standards\n",
        "\n",
        "\n"
       ]
      }
     ],
     "prompt_number": 99
    },
    {
     "cell_type": "code",
     "collapsed": false,
     "input": [
      "# Getting professionals (people who have sumitted more than 10)\n",
      "professionals = data.Requester.value_counts()\n",
      "professionals = professionals[professionals > 15].index\n",
      "data.loc[data.Requester.isin(professionals), 'Professional'] = True\n",
      "# Getting length of request\n",
      "data['request_length'] = data['Description/Basis for Appeal'].apply(lambda row: len(row.split(\" \")))"
     ],
     "language": "python",
     "metadata": {},
     "outputs": [],
     "prompt_number": 4
    },
    {
     "cell_type": "code",
     "collapsed": false,
     "input": [
      "print(data.loc[data.Professional==True,'request_length'].describe())\n",
      "data.loc[data.Professional==True,'request_length'].hist().set_title('Hist of Len of Professional Requests')"
     ],
     "language": "python",
     "metadata": {},
     "outputs": [
      {
       "output_type": "stream",
       "stream": "stdout",
       "text": [
        "count    674.000000\n",
        "mean      75.547478\n",
        "std       59.048208\n",
        "min        1.000000\n",
        "25%       23.000000\n",
        "50%       65.000000\n",
        "75%      125.750000\n",
        "max      316.000000\n",
        "Name: request_length, dtype: float64\n"
       ]
      },
      {
       "metadata": {},
       "output_type": "pyout",
       "prompt_number": 5,
       "text": [
        "<matplotlib.text.Text at 0x1108db050>"
       ]
      },
      {
       "metadata": {},
       "output_type": "display_data",
       "png": "[encoded data removed]",
       "text": [
        "<matplotlib.figure.Figure at 0x10f074510>"
       ]
      }
     ],
     "prompt_number": 5
    },
    {
     "cell_type": "code",
     "collapsed": false,
     "input": [
      "print(data.loc[data.Professional!=True,'request_length'].describe())\n",
      "data.loc[data.Professional!=True,'request_length'].hist().set_title('Hist of Len of Non-Professional Requests')"
     ],
     "language": "python",
     "metadata": {},
     "outputs": [
      {
       "output_type": "stream",
       "stream": "stdout",
       "text": [
        "count    2940.000000\n",
        "mean       86.681293\n",
        "std        77.036560\n",
        "min         2.000000\n",
        "25%        29.000000\n",
        "50%        62.000000\n",
        "75%       122.000000\n",
        "max       724.000000\n",
        "Name: request_length, dtype: float64\n"
       ]
      },
      {
       "metadata": {},
       "output_type": "pyout",
       "prompt_number": 6,
       "text": [
        "<matplotlib.text.Text at 0x110964f50>"
       ]
      },
      {
       "metadata": {},
       "output_type": "display_data",
       "png": "[encoded data removed]",
       "text": [
        "<matplotlib.figure.Figure at 0x1108567d0>"
       ]
      }
     ],
     "prompt_number": 6
    },
    {
     "cell_type": "code",
     "collapsed": false,
     "input": [
      "from scipy.stats import ttest_ind\n",
      "t_value, p_value = ttest_ind(data.loc[data.Professional!=True,'request_length'], data.loc[data.Professional==True,'request_length'])\n",
      "print \"T-test P =\", p_value"
     ],
     "language": "python",
     "metadata": {},
     "outputs": [
      {
       "output_type": "stream",
       "stream": "stdout",
       "text": [
        "T-test P = 0.000433175715683\n"
       ]
      }
     ],
     "prompt_number": 7
    },
    {
     "cell_type": "code",
     "collapsed": false,
     "input": [],
     "language": "python",
     "metadata": {},
     "outputs": []
    }
   ],
   "metadata": {}
  }
 ]
}