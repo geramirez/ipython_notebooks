{
 "metadata": {
  "name": "",
  "signature": "sha256:70091f8ccbe953c0209b46bef87ddd96ac5c0b06b7648cb988daf8772e86e4a3"
 },
 "nbformat": 3,
 "nbformat_minor": 0,
 "worksheets": []
}